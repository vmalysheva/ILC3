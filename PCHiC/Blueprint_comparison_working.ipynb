{
 "cells": [
  {
   "cell_type": "code",
   "execution_count": 4,
   "metadata": {},
   "outputs": [],
   "source": [
    "### This script checks which interactions are marked by ATAC and H3K27ac at PIRs\n",
    "\n",
    "library(data.table)\n",
    "library(Chicago)\n",
    "library(ggplot2)\n",
    "library(eulerr)\n",
    "\n",
    "\n",
    "# load epigenetic data\n",
    "\n",
    "atac <- fread(\"/rds/general/user/malyshev/home/miniPCHiC/hILCs/spivakov_pchic_ILC_CD4/data/peaks/ATAC/ILC3_ATAC_peaks.bed\")\n",
    "k27ac <- fread(\"/rds/general/user/malyshev/home/miniPCHiC/hILCs/spivakov_pchic_ILC_CD4/data/peaks/CHIP/ILC3_H3K27ac_peaks.bed\")\n",
    "\n",
    "# load rmaps\n",
    "rmap_fres <- fread(\"/rds/general/user/malyshev/home/spivakov_analysis_live/Design/Human_DpnII_binsize1500_maxL75K/hg38_dpnII.rmap\")\n",
    "rmap_5kb <- fread(\"/rds/general/user/malyshev/home/spivakov_analysis_live/Design/Human_hg38_bin5K_sol_baits/human_DpnII_5K_sol_baits.rmap\")\n",
    "rmap_20kb <- fread(\"/rds/general/user/malyshev/home/spivakov_analysis_live/Design/Human_hg38_bin20K_sol_baits/hg38_dpnII_20kb_sol_baits.rmap\")\n",
    "\n",
    "## function for merging epigenetic data with rmap\n",
    "\n",
    "epirmap <- function(epiprof, rmap_fres, rmap_5kb, rmap_20kb, overlap_by){\n",
    "  \n",
    "  # overlap_by: \"summit\" or \"region\"\n",
    "  \n",
    "  if (overlap_by == \"summit\"){\n",
    "      # define middle point of a peak\n",
    "      epiprof[,mid := (V2 + V3) /2]\n",
    "      epiprof[,mid_2 := (V2 + V3) /2]\n",
    "      epiprof <- epiprof[,c(\"V1\", \"V2\", \"V3\", \"mid\", \"mid_2\")]\n",
    "      epiprof[,V1 := gsub(\"chr\", \"\", V1)]\n",
    "  }else{\n",
    "      # define middle point of a peak\n",
    "      epiprof[,mid := V2]\n",
    "      epiprof[,mid_2 := V3]\n",
    "      epiprof <- epiprof[,c(\"V1\", \"V2\", \"V3\", \"mid\", \"mid_2\")]\n",
    "      epiprof[,V1 := gsub(\"chr\", \"\", V1)]\n",
    "  }\n",
    "\n",
    "  \n",
    "  # assign peaks to fres rmap bins by summit\n",
    "  setkey(epiprof, V1, mid, mid_2)\n",
    "  setkey(rmap_fres, V1, V2, V3)\n",
    "  epi_rmap <- foverlaps(epiprof, rmap_fres, by.x = c(\"V1\", \"mid\", \"mid_2\"), by.y = c(\"V1\", \"V2\", \"V3\"))\n",
    "  epi_rmap <- epi_rmap[,c(\"V1\", \"mid\", \"mid_2\", \"V4\")]\n",
    "  setnames(epi_rmap, \"V4\", \"fres_ID\")\n",
    "  \n",
    "  # assign peaks to 5kb rmap bins by summit\n",
    "  setkey(epi_rmap, V1, mid, mid_2)\n",
    "  setkey(rmap_5kb, V1, V2, V3)\n",
    "  epi_rmap <- foverlaps(epi_rmap, rmap_5kb, by.x = c(\"V1\", \"mid\", \"mid_2\"), by.y = c(\"V1\", \"V2\", \"V3\"))\n",
    "  epi_rmap <- epi_rmap[,c(\"V1\", \"mid\", \"mid_2\", \"fres_ID\", \"V4\")]\n",
    "  setnames(epi_rmap, \"V4\", \"5kb_ID\")\n",
    "  \n",
    "  # assign atac peaks to 20kb rmap bins by summit of a peak\n",
    "  setkey(epi_rmap, V1, mid, mid_2)\n",
    "  setkey(rmap_20kb, V1, V2, V3)\n",
    "  epi_rmap <- foverlaps(epi_rmap, rmap_20kb, by.x = c(\"V1\", \"mid\", \"mid_2\"), by.y = c(\"V1\", \"V2\", \"V3\"))\n",
    "  epi_rmap <- epi_rmap[,c(\"V1\", \"mid\", \"mid_2\", \"fres_ID\", \"5kb_ID\", \"V4\")]\n",
    "  setnames(epi_rmap, \"V4\", \"20kb_ID\")\n",
    "  \n",
    "  return(epi_rmap)\n",
    "}\n",
    "\n",
    "atac_rmap <- epirmap(atac, rmap_fres, rmap_5kb, rmap_20kb, \"summit\")\n",
    "k27ac_rmap <- epirmap(k27ac, rmap_fres, rmap_5kb, rmap_20kb, \"summit\")\n",
    "\n",
    "\n",
    "# ## load the singificant interactions:\n",
    "# ## the \"sel\" stands for score >=5\n",
    "# ## loading ILC Chicago results\n",
    "# ilc_fres <- readRDS(\"~/miniPCHiC/hILCs/hILCs_run2/Chicago/without_binning/hILC3_all_merged_Step2_corrected_weighting/data/hILC3_all_merged_Step2_corrected_weighting.Rds\")\n",
    "# ilc_5kb <- readRDS(\"~/miniPCHiC/hILCs/hILCs_run2/Chicago/with_binning/hILCs_all_merged_bin_Step2/data/hILCs_all_merged_bin_Step2.Rds\")\n",
    "# ilc_20kb <- readRDS(\"~/miniPCHiC/hILCs/hILCs_run2/Chicago/with_binning_20K/hILC3_20K_merged_Step2/data/hILC3_20K_merged_Step2.Rds\")\n",
    "\n",
    "\n",
    "# ### check if PIRs have ATAC or H3K27ac markers\n",
    "\n",
    "# ilc_fres_x <- ilc_fres@x[score >= 5][,atac := ifelse(otherEndID %in% atac_rmap$fres_ID, \"TRUE\", \"FALSE\")]\n",
    "# ilc_fres_x <- ilc_fres_x[,k27ac := ifelse(otherEndID %in% k27ac_rmap$fres_ID, \"TRUE\", \"FALSE\")]\n",
    "\n",
    "# ilc_5kb_x <- ilc_5kb@x[score >= 5][,atac := ifelse(otherEndID %in% atac_rmap$'5kb_ID', \"TRUE\", \"FALSE\")]\n",
    "# ilc_5kb_x <- ilc_5kb_x[,k27ac := ifelse(otherEndID %in% k27ac_rmap$'5kb_ID', \"TRUE\", \"FALSE\")]\n",
    "\n",
    "# ilc_20kb_x <- ilc_20kb@x[score >= 5][,atac := ifelse(otherEndID %in% atac_rmap$'20kb_ID', \"TRUE\", \"FALSE\")]\n",
    "# ilc_20kb_x <- ilc_20kb_x[,k27ac := ifelse(otherEndID %in% k27ac_rmap$'20kb_ID', \"TRUE\", \"FALSE\")]\n",
    "\n",
    "\n",
    "# ## mark PIRs that have ATAC or H3K27ac peaks\n",
    "\n",
    "# print(\"total number of interactions\")\n",
    "# nrow(ilc_fres_x) # 31003\n",
    "# print(\"total number of unique PIRs\")\n",
    "# length(unique(ilc_fres_x$otherEndID)) # 28174\n",
    "# print(\"number of unique fragres PIRs marked with ATAC\")\n",
    "# length(unique(ilc_fres_x[atac == TRUE]$otherEndID)) # 2614\n",
    "# print(\"number of unique fragres PIRs marked with H3K27ac\")\n",
    "# length(unique(ilc_fres_x[k27ac == TRUE]$otherEndID)) # 1089\n",
    "# print(\"number of unique fragres PIRs marked with H3K27ac or ATAC\")\n",
    "# length(unique(ilc_fres_x[k27ac == TRUE | atac == TRUE]$otherEndID)) # 3095\n",
    "\n",
    "# # 5kb resolution\n",
    "\n",
    "# print(\"total number of 5kb unique interactions\")\n",
    "# nrow(unique(ilc_5kb_x)) # 58632\n",
    "# print(\"total number of unique PIRs\")\n",
    "# length(unique(ilc_5kb_x$otherEndID)) # 35812\n",
    "# print(\"number of 5kb PIRs marked with ATAC\")\n",
    "# length(unique(ilc_5kb_x[atac == TRUE]$otherEndID)) # 10617\n",
    "# print(\"number of 5kb PIRs marked with H3K27ac\")\n",
    "# length(unique(ilc_5kb_x[k27ac == TRUE]$otherEndID)) # 4043\n",
    "# print(\"number of 5kb PIRs marked with H3K27ac or ATAC\")\n",
    "# length(unique(ilc_5kb_x[k27ac == TRUE | atac == TRUE]$otherEndID)) # 11822\n",
    "\n",
    "# # 20kb resolution\n",
    "# ilc_20kb_x[,atac := ifelse(otherEndID %in% atac_rmap$'20kb_ID', TRUE, FALSE)]\n",
    "# ilc_20kb_x[,k27ac := ifelse(otherEndID %in% k27ac_rmap$'20kb_ID', \"TRUE\", \"FALSE\")]\n",
    "\n",
    "# print(\"total number of 20kb unique interactions\")\n",
    "# nrow(unique(ilc_20kb_x)) # 17107\n",
    "# print(\"total number of unique PIRs\")\n",
    "# length(unique(ilc_20kb_x$otherEndID)) # 10241\n",
    "# print(\"number of fragres PIRs marked with ATAC\")\n",
    "# length(unique(ilc_20kb_x[atac == TRUE]$otherEndID)) # 5999\n",
    "# print(\"number of fragres PIRs marked with H3K27ac\")\n",
    "# length(unique(ilc_20kb_x[k27ac == TRUE]$otherEndID)) # 2187\n",
    "# print(\"number of fragres PIRs marked with H3K27ac or ATAC\")\n",
    "# length(unique(ilc_20kb_x[k27ac == TRUE | atac == TRUE]$otherEndID)) # 6360\n",
    "\n"
   ]
  },
  {
   "cell_type": "code",
   "execution_count": 2,
   "metadata": {},
   "outputs": [],
   "source": [
    "fwrite(ilc_fres_x, \"ILC3_CHiCAGO_score5_fragment_resolution.txt\", sep = \"\\t\", scipen = 999)\n",
    "fwrite(ilc_5kb_x, \"ILC3_CHiCAGO_score5_5kb_solitary_bait_resolution.txt\", sep = \"\\t\", scipen = 999)\n",
    "fwrite(ilc_20kb_x, \"ILC3_CHiCAGO_score5_20kb_solitary_bait_resolution.txt\", sep = \"\\t\", scipen = 999)"
   ]
  },
  {
   "cell_type": "code",
   "execution_count": 6,
   "metadata": {},
   "outputs": [],
   "source": [
    "#### integrate with blueprint\n",
    "library(data.table)\n",
    "regbuild <- fread(\"~/spivakov_analysis_live/ensembl/Ensembl96_GRCh38_RegBuild.txt\")\n",
    "\n",
    "\n",
    "### regbuild open or active with ALL bins overlapping the feature (enhancer or open chromatin) marked as containing it\n",
    "\n",
    "bp_all <- regbuild\n",
    "colnames(bp_all) <- c(\"V1\", \"V2\", \"V3\", \"Feature_type\", \"feature_type_dscr\")\n",
    "bp_all_rmap <- epirmap(bp_all, rmap_fres, rmap_5kb, rmap_20kb, \"region\")\n",
    "\n",
    "\n",
    "bp_all_rmap_annot <- merge(bp_all_rmap, bp_all, by.x = c(\"V1\", \"mid\", \"mid_2\"), by.y = c(\"V1\", \"V2\", \"V3\"))\n",
    "\n",
    "## annotating ILC PIRs with blueprint feature types\n",
    "\n",
    "# # fragment res\n",
    "# ilc_fres_x_bp <- merge(unique(ilc_fres_x[,c(\"otherEndID\", \"atac\", \"k27ac\")]), unique(bp_all_rmap_annot[,c(\"fres_ID\", \"Feature_type\")]), \n",
    "#                        by.x = \"otherEndID\", by.y = \"fres_ID\", all.x = TRUE)\n",
    "\n",
    "# # 5kb res\n",
    "# ilc_5kb_x_bp <- merge(unique(ilc_5kb_x[,c(\"otherEndID\", \"atac\", \"k27ac\")]), unique(bp_all_rmap_annot[,c(\"5kb_ID\", \"Feature_type\")]), \n",
    "#                        by.x = \"otherEndID\", by.y = \"5kb_ID\", all.x = TRUE)\n",
    "\n",
    "# # 20kb res\n",
    "# ilc_20kb_x_bp <- merge(unique(ilc_20kb_x[,c(\"otherEndID\", \"atac\", \"k27ac\")]), unique(bp_all_rmap_annot[,c(\"20kb_ID\", \"Feature_type\")]), \n",
    "#                        by.x = \"otherEndID\", by.y = \"20kb_ID\", all.x = TRUE)\n",
    "\n",
    "\n",
    "# ## counting Feature types\n",
    "# bp_ilc_fres <- ilc_fres_x_bp[,.N, by = \"Feature_type\"]\n",
    "# bp_ilc_5kb <- ilc_5kb_x_bp[,.N, by = \"Feature_type\"]\n",
    "# bp_ilc_20kb <- ilc_20kb_x_bp[,.N, by = \"Feature_type\"]\n",
    "\n",
    "\n",
    "# bp_ilc_fres[,Feature_type := ifelse(is.na(Feature_type), \"not_annotated\", Feature_type)]\n",
    "# bp_ilc_5kb[,Feature_type := ifelse(is.na(Feature_type), \"not_annotated\", Feature_type)]\n",
    "# bp_ilc_20kb[,Feature_type := ifelse(is.na(Feature_type), \"not_annotated\", Feature_type)]\n",
    "\n",
    "# bp_ilc_fres[,resolution := \"fragment\"]\n",
    "# bp_ilc_5kb[,resolution := \"5kb\"]\n",
    "# bp_ilc_20kb[,resolution := \"20kb\"]"
   ]
  },
  {
   "cell_type": "code",
   "execution_count": 4,
   "metadata": {},
   "outputs": [],
   "source": [
    "bp_ilc_ressum <- rbind(bp_ilc_fres, bp_ilc_5kb, bp_ilc_20kb)\n",
    "\n",
    "## plotting\n",
    "\n",
    "bp_ilc_ressum$Feature_type <- factor(bp_ilc_ressum$Feature_type, \n",
    "                                     levels = c(\"not_annotated\", 'Open chromatin', 'Enhancer', 'TF binding site',\n",
    "                                               \"CTCF Binding Site\", \"Promoter\", \"Promoter Flanking Region\"))\n",
    "\n",
    "bp_ilc_ressum$resolution <- factor(bp_ilc_ressum$resolution, \n",
    "                                     levels = c(\"fragment\", '5kb', '20kb'))\n",
    "\n",
    "p <- ggplot(bp_ilc_ressum, aes(fill=resolution, y=N, x=Feature_type)) + \n",
    "      geom_bar(position=\"dodge\", stat=\"identity\") +\n",
    "      scale_fill_manual(values = c(\"fragment\" = \"#045a8d\",\n",
    "                                   \"5kb\"=\"#74a9cf\",\n",
    "                                   \"20kb\" = \"#969696\")) + \n",
    "      ylab(\"number of annotated features\") +\n",
    "      theme(axis.text.x = element_text(size = 6, angle = 45, vjust = 1, hjust=1),\n",
    "            axis.title.x= element_blank(),\n",
    "            axis.text.y = element_text(size = 6),\n",
    "            axis.title.y = element_text(size = 6, colour = \"grey30\"),\n",
    "            legend.title = element_text(size=6, colour = \"grey30\"),\n",
    "            legend.text = element_text(size=6, colour = \"grey30\"),\n",
    "            legend.key.width = unit(0.3, 'cm'),\n",
    "            legend.key.height = unit(0.3, 'cm'),\n",
    "            panel.background = element_rect(fill = \"white\"),\n",
    "            axis.line.x=element_line(color=\"grey30\"),\n",
    "            axis.line.y=element_line(color=\"grey30\")\n",
    "            )\n",
    "\n",
    "ggsave(\"~/miniPCHiC/hILCs/hILCs_run2/Chicago/ILC_PIRs_Blueprint_annotation.pdf\", p, width = 4, height = 3, useDingbats=FALSE)\n",
    "\n"
   ]
  },
  {
   "cell_type": "code",
   "execution_count": 5,
   "metadata": {},
   "outputs": [
    {
     "data": {
      "image/png": "[encoded data removed]",
      "text/plain": [
       "plot without title"
      ]
     },
     "metadata": {
      "image/png": {
       "height": 420,
       "width": 420
      }
     },
     "output_type": "display_data"
    }
   ],
   "source": [
    "p"
   ]
  },
  {
   "cell_type": "code",
   "execution_count": 6,
   "metadata": {},
   "outputs": [],
   "source": [
    "## annotating active and/or open ILC PIRs with blueprint feature types\n",
    "\n",
    "# fragment res\n",
    "ilc_fres_actx_bp <- merge(unique(ilc_fres_x[atac == TRUE | k27ac == TRUE][,c(\"otherEndID\", \"atac\", \"k27ac\")]), unique(bp_all_rmap_annot[,c(\"fres_ID\", \"Feature_type\")]), \n",
    "                       by.x = \"otherEndID\", by.y = \"fres_ID\", all.x = TRUE)\n",
    "\n",
    "# 5kb res\n",
    "ilc_5kb_actx_bp <- merge(unique(ilc_5kb_x[atac == TRUE | k27ac == TRUE][,c(\"otherEndID\", \"atac\", \"k27ac\")]), unique(bp_all_rmap_annot[,c(\"5kb_ID\", \"Feature_type\")]), \n",
    "                       by.x = \"otherEndID\", by.y = \"5kb_ID\", all.x = TRUE)\n",
    "\n",
    "# 20kb res\n",
    "ilc_20kb_actx_bp <- merge(unique(ilc_20kb_x[atac == TRUE | k27ac == TRUE][,c(\"otherEndID\", \"atac\", \"k27ac\")]), unique(bp_all_rmap_annot[,c(\"20kb_ID\", \"Feature_type\")]), \n",
    "                       by.x = \"otherEndID\", by.y = \"20kb_ID\", all.x = TRUE)\n",
    "\n",
    "\n",
    "## counting Feature types\n",
    "bp_ilc_fres_act <- ilc_fres_actx_bp[,.N, by = \"Feature_type\"]\n",
    "bp_ilc_5kb_act <- ilc_5kb_actx_bp[,.N, by = \"Feature_type\"]\n",
    "bp_ilc_20kb_act <- ilc_20kb_actx_bp[,.N, by = \"Feature_type\"]\n",
    "\n",
    "\n",
    "bp_ilc_fres_act[,Feature_type := ifelse(is.na(Feature_type), \"not_annotated\", Feature_type)]\n",
    "bp_ilc_5kb_act[,Feature_type := ifelse(is.na(Feature_type), \"not_annotated\", Feature_type)]\n",
    "bp_ilc_20kb_act[,Feature_type := ifelse(is.na(Feature_type), \"not_annotated\", Feature_type)]\n",
    "\n",
    "bp_ilc_fres_act[,resolution := \"fragment\"]\n",
    "bp_ilc_5kb_act[,resolution := \"5kb\"]\n",
    "bp_ilc_20kb_act[,resolution := \"20kb\"]"
   ]
  },
  {
   "cell_type": "code",
   "execution_count": 7,
   "metadata": {},
   "outputs": [],
   "source": [
    "bp_ilc_act_ressum <- rbind(bp_ilc_fres_act, bp_ilc_5kb_act, bp_ilc_20kb_act)\n",
    "\n",
    "## plotting\n",
    "\n",
    "bp_ilc_act_ressum$Feature_type <- factor(bp_ilc_act_ressum$Feature_type, \n",
    "                                     levels = c(\"not_annotated\", 'Open chromatin', 'Enhancer', 'TF binding site',\n",
    "                                               \"CTCF Binding Site\", \"Promoter\", \"Promoter Flanking Region\"))\n",
    "\n",
    "bp_ilc_act_ressum$resolution <- factor(bp_ilc_act_ressum$resolution, \n",
    "                                     levels = c(\"fragment\", '5kb', '20kb'))\n",
    "\n",
    "p1 <- ggplot(bp_ilc_act_ressum, aes(fill=resolution, y=N, x=Feature_type)) + \n",
    "      geom_bar(position=\"dodge\", stat=\"identity\") +\n",
    "      scale_fill_manual(values = c(\"fragment\" = \"#045a8d\",\n",
    "                                   \"5kb\"=\"#74a9cf\",\n",
    "                                   \"20kb\" = \"#969696\")) + \n",
    "      ylab(\"number of annotated features\") +\n",
    "      theme(axis.text.x = element_text(size = 6, angle = 45, vjust = 1, hjust=1),\n",
    "            axis.title.x= element_blank(),\n",
    "            axis.text.y = element_text(size = 6),\n",
    "            axis.title.y = element_text(size = 6, colour = \"grey30\"),\n",
    "            legend.title = element_text(size=6, colour = \"grey30\"),\n",
    "            legend.text = element_text(size=6, colour = \"grey30\"),\n",
    "            legend.key.width = unit(0.3, 'cm'),\n",
    "            legend.key.height = unit(0.3, 'cm'),\n",
    "            panel.background = element_rect(fill = \"white\"),\n",
    "            axis.line.x=element_line(color=\"grey30\"),\n",
    "            axis.line.y=element_line(color=\"grey30\")\n",
    "            )\n",
    "\n",
    "ggsave(\"~/miniPCHiC/hILCs/hILCs_run2/Chicago/ILC_act_PIRs_Blueprint_annotation.pdf\", p1, width = 4, height = 3, useDingbats=FALSE)\n",
    "\n"
   ]
  },
  {
   "cell_type": "code",
   "execution_count": 10,
   "metadata": {},
   "outputs": [
    {
     "data": {
      "image/png": "[encoded data removed]",
      "text/plain": [
       "plot without title"
      ]
     },
     "metadata": {
      "image/png": {
       "height": 420,
       "width": 420
      }
     },
     "output_type": "display_data"
    }
   ],
   "source": [
    "p1"
   ]
  },
  {
   "cell_type": "code",
   "execution_count": null,
   "metadata": {},
   "outputs": [],
   "source": []
  },
  {
   "cell_type": "code",
   "execution_count": 2,
   "metadata": {},
   "outputs": [],
   "source": [
    "### Blueprint on 5kb, fragment and consensus\n",
    "\n",
    "### This script checks which interactions are marked by ATAC and H3K27ac at PIRs\n",
    "\n",
    "library(data.table)\n",
    "library(ggplot2)\n",
    "\n",
    "\n",
    "# load epigenetic data\n",
    "\n",
    "atac <- fread(\"/rds/general/user/malyshev/home/miniPCHiC/hILCs/spivakov_pchic_ILC_CD4/data/peaks/ATAC/ILC3_ATAC_peaks.bed\")\n",
    "k27ac <- fread(\"/rds/general/user/malyshev/home/miniPCHiC/hILCs/spivakov_pchic_ILC_CD4/data/peaks/CHIP/ILC3_H3K27ac_peaks.bed\")\n",
    "\n",
    "# load rmaps\n",
    "rmap_fres <- fread(\"/rds/general/user/malyshev/home/spivakov_analysis_live/Design/Human_DpnII_binsize1500_maxL75K/hg38_dpnII.rmap\")\n",
    "rmap_5kb <- fread(\"/rds/general/user/malyshev/home/spivakov_analysis_live/Design/Human_hg38_bin5K_sol_baits/human_DpnII_5K_sol_baits.rmap\")\n",
    "\n",
    "## function for merging epigenetic data with rmap\n",
    "\n",
    "epirmap <- function(epiprof, rmap_fres, rmap_5kb, overlap_by){\n",
    "  \n",
    "    # overlap_by: \"summit\" or \"region\"\n",
    "\n",
    "    if (overlap_by == \"summit\"){\n",
    "      # define middle point of a peak\n",
    "      epiprof[,mid := (V2 + V3) /2]\n",
    "      epiprof[,mid_2 := (V2 + V3) /2]\n",
    "      epiprof <- epiprof[,c(\"V1\", \"V2\", \"V3\", \"mid\", \"mid_2\")]\n",
    "      epiprof[,V1 := gsub(\"chr\", \"\", V1)]\n",
    "    }else{\n",
    "      # define range of a peak\n",
    "      epiprof[,mid := V2]\n",
    "      epiprof[,mid_2 := V3]\n",
    "      epiprof <- epiprof[,c(\"V1\", \"V2\", \"V3\", \"mid\", \"mid_2\")]\n",
    "      epiprof[,V1 := gsub(\"chr\", \"\", V1)]\n",
    "    }\n",
    "\n",
    "\n",
    "    # assign peaks to fres rmap bins by summit\n",
    "    setkey(epiprof, V1, mid, mid_2)\n",
    "    setkey(rmap_fres, V1, V2, V3)\n",
    "    epi_rmap <- foverlaps(epiprof, rmap_fres, by.x = c(\"V1\", \"mid\", \"mid_2\"), by.y = c(\"V1\", \"V2\", \"V3\"))\n",
    "    epi_rmap <- epi_rmap[,c(\"V1\", \"mid\", \"mid_2\", \"V4\")]\n",
    "    setnames(epi_rmap, \"V4\", \"fres_ID\")\n",
    "\n",
    "    # assign peaks to 5kb rmap bins by summit\n",
    "    setkey(epi_rmap, V1, mid, mid_2)\n",
    "    setkey(rmap_5kb, V1, V2, V3)\n",
    "    epi_rmap <- foverlaps(epi_rmap, rmap_5kb, by.x = c(\"V1\", \"mid\", \"mid_2\"), by.y = c(\"V1\", \"V2\", \"V3\"))\n",
    "    epi_rmap <- epi_rmap[,c(\"V1\", \"mid\", \"mid_2\", \"fres_ID\", \"V4\")]\n",
    "    setnames(epi_rmap, \"V4\", \"5kb_ID\")\n",
    "    \n",
    "    return(epi_rmap)\n",
    "}\n",
    "\n",
    "atac_rmap <- epirmap(atac, rmap_fres, rmap_5kb, \"summit\")\n",
    "k27ac_rmap <- epirmap(k27ac, rmap_fres, rmap_5kb, \"summit\")\n"
   ]
  },
  {
   "cell_type": "code",
   "execution_count": 52,
   "metadata": {},
   "outputs": [
    {
     "name": "stdout",
     "output_type": "stream",
     "text": [
      "[1] \"total number of interactions\"\n"
     ]
    },
    {
     "data": {
      "text/html": [
       "31003"
      ],
      "text/latex": [
       "31003"
      ],
      "text/markdown": [
       "31003"
      ],
      "text/plain": [
       "[1] 31003"
      ]
     },
     "metadata": {},
     "output_type": "display_data"
    },
    {
     "name": "stdout",
     "output_type": "stream",
     "text": [
      "[1] \"total number of unique PIRs\"\n"
     ]
    },
    {
     "data": {
      "text/html": [
       "28174"
      ],
      "text/latex": [
       "28174"
      ],
      "text/markdown": [
       "28174"
      ],
      "text/plain": [
       "[1] 28174"
      ]
     },
     "metadata": {},
     "output_type": "display_data"
    },
    {
     "name": "stdout",
     "output_type": "stream",
     "text": [
      "[1] \"number of unique fragres PIRs marked with ATAC\"\n"
     ]
    },
    {
     "data": {
      "text/html": [
       "2614"
      ],
      "text/latex": [
       "2614"
      ],
      "text/markdown": [
       "2614"
      ],
      "text/plain": [
       "[1] 2614"
      ]
     },
     "metadata": {},
     "output_type": "display_data"
    },
    {
     "name": "stdout",
     "output_type": "stream",
     "text": [
      "[1] \"number of unique fragres PIRs marked with H3K27ac\"\n"
     ]
    },
    {
     "data": {
      "text/html": [
       "1089"
      ],
      "text/latex": [
       "1089"
      ],
      "text/markdown": [
       "1089"
      ],
      "text/plain": [
       "[1] 1089"
      ]
     },
     "metadata": {},
     "output_type": "display_data"
    },
    {
     "name": "stdout",
     "output_type": "stream",
     "text": [
      "[1] \"number of unique fragres PIRs marked with H3K27ac or ATAC\"\n"
     ]
    },
    {
     "data": {
      "text/html": [
       "3095"
      ],
      "text/latex": [
       "3095"
      ],
      "text/markdown": [
       "3095"
      ],
      "text/plain": [
       "[1] 3095"
      ]
     },
     "metadata": {},
     "output_type": "display_data"
    },
    {
     "name": "stdout",
     "output_type": "stream",
     "text": [
      "[1] \"total number of 5kb unique interactions\"\n"
     ]
    },
    {
     "data": {
      "text/html": [
       "58632"
      ],
      "text/latex": [
       "58632"
      ],
      "text/markdown": [
       "58632"
      ],
      "text/plain": [
       "[1] 58632"
      ]
     },
     "metadata": {},
     "output_type": "display_data"
    },
    {
     "name": "stdout",
     "output_type": "stream",
     "text": [
      "[1] \"total number of unique PIRs\"\n"
     ]
    },
    {
     "data": {
      "text/html": [
       "35812"
      ],
      "text/latex": [
       "35812"
      ],
      "text/markdown": [
       "35812"
      ],
      "text/plain": [
       "[1] 35812"
      ]
     },
     "metadata": {},
     "output_type": "display_data"
    },
    {
     "name": "stdout",
     "output_type": "stream",
     "text": [
      "[1] \"number of 5kb PIRs marked with ATAC\"\n"
     ]
    },
    {
     "data": {
      "text/html": [
       "10617"
      ],
      "text/latex": [
       "10617"
      ],
      "text/markdown": [
       "10617"
      ],
      "text/plain": [
       "[1] 10617"
      ]
     },
     "metadata": {},
     "output_type": "display_data"
    },
    {
     "name": "stdout",
     "output_type": "stream",
     "text": [
      "[1] \"number of 5kb PIRs marked with H3K27ac\"\n"
     ]
    },
    {
     "data": {
      "text/html": [
       "4043"
      ],
      "text/latex": [
       "4043"
      ],
      "text/markdown": [
       "4043"
      ],
      "text/plain": [
       "[1] 4043"
      ]
     },
     "metadata": {},
     "output_type": "display_data"
    },
    {
     "name": "stdout",
     "output_type": "stream",
     "text": [
      "[1] \"number of 5kb PIRs marked with H3K27ac or ATAC\"\n"
     ]
    },
    {
     "data": {
      "text/html": [
       "11822"
      ],
      "text/latex": [
       "11822"
      ],
      "text/markdown": [
       "11822"
      ],
      "text/plain": [
       "[1] 11822"
      ]
     },
     "metadata": {},
     "output_type": "display_data"
    }
   ],
   "source": [
    "## load the singificant interactions:\n",
    "## the \"sel\" stands for score >=5\n",
    "## loading ILC Chicago results\n",
    "ilc_fres <- readRDS(\"~/miniPCHiC/hILCs/hILCs_run2/Chicago/without_binning/hILC3_all_merged_Step2_corrected_weighting/data/hILC3_all_merged_Step2_corrected_weighting.Rds\")\n",
    "ilc_5kb <- readRDS(\"~/miniPCHiC/hILCs/hILCs_run2/Chicago/with_binning/hILCs_all_merged_bin_Step2/data/hILCs_all_merged_bin_Step2.Rds\")\n",
    "\n",
    "### check if PIRs have ATAC or H3K27ac markers\n",
    "\n",
    "ilc_fres_x <- ilc_fres@x[score >= 5][,atac := ifelse(otherEndID %in% atac_rmap$fres_ID, \"TRUE\", \"FALSE\")]\n",
    "ilc_fres_x <- ilc_fres_x[,k27ac := ifelse(otherEndID %in% k27ac_rmap$fres_ID, \"TRUE\", \"FALSE\")]\n",
    "\n",
    "ilc_5kb_x <- ilc_5kb@x[score >= 5][,atac := ifelse(otherEndID %in% atac_rmap$'5kb_ID', \"TRUE\", \"FALSE\")]\n",
    "ilc_5kb_x <- ilc_5kb_x[,k27ac := ifelse(otherEndID %in% k27ac_rmap$'5kb_ID', \"TRUE\", \"FALSE\")]\n",
    "\n",
    "## mark PIRs that have ATAC or H3K27ac peaks\n",
    "\n",
    "print(\"total number of interactions\")\n",
    "nrow(ilc_fres_x) # 31003\n",
    "print(\"total number of unique PIRs\")\n",
    "length(unique(ilc_fres_x$otherEndID)) # 28174\n",
    "print(\"number of unique fragres PIRs marked with ATAC\")\n",
    "length(unique(ilc_fres_x[atac == TRUE]$otherEndID)) # 2614\n",
    "print(\"number of unique fragres PIRs marked with H3K27ac\")\n",
    "length(unique(ilc_fres_x[k27ac == TRUE]$otherEndID)) # 1089\n",
    "print(\"number of unique fragres PIRs marked with H3K27ac or ATAC\")\n",
    "length(unique(ilc_fres_x[k27ac == TRUE | atac == TRUE]$otherEndID)) # 3095\n",
    "\n",
    "# 5kb resolution\n",
    "\n",
    "print(\"total number of 5kb unique interactions\")\n",
    "nrow(unique(ilc_5kb_x)) # 58632\n",
    "print(\"total number of unique PIRs\")\n",
    "length(unique(ilc_5kb_x$otherEndID)) # 35812\n",
    "print(\"number of 5kb PIRs marked with ATAC\")\n",
    "length(unique(ilc_5kb_x[atac == TRUE]$otherEndID)) # 10617\n",
    "print(\"number of 5kb PIRs marked with H3K27ac\")\n",
    "length(unique(ilc_5kb_x[k27ac == TRUE]$otherEndID)) # 4043\n",
    "print(\"number of 5kb PIRs marked with H3K27ac or ATAC\")\n",
    "length(unique(ilc_5kb_x[k27ac == TRUE | atac == TRUE]$otherEndID)) # 11822\n"
   ]
  },
  {
   "cell_type": "code",
   "execution_count": 46,
   "metadata": {},
   "outputs": [],
   "source": [
    "#### integrate with blueprint\n",
    "library(data.table)\n",
    "regbuild <- fread(\"~/spivakov_analysis_live/ensembl/Ensembl96_GRCh38_RegBuild.txt\")\n",
    "\n",
    "\n",
    "### regbuild open or active with ALL bins overlapping the feature (enhancer or open chromatin) marked as containing it\n",
    "\n",
    "bp_all <- regbuild\n",
    "colnames(bp_all) <- c(\"V1\", \"V2\", \"V3\", \"Feature_type\", \"feature_type_dscr\")\n",
    "bp_all_rmap <- epirmap(bp_all, rmap_fres, rmap_5kb, \"region\")\n",
    "\n",
    "\n",
    "bp_all_rmap_annot <- merge(bp_all_rmap, bp_all, by.x = c(\"V1\", \"mid\", \"mid_2\"), by.y = c(\"V1\", \"V2\", \"V3\"))\n",
    "\n",
    "## annotating ILC PIRs with blueprint feature types\n",
    "\n",
    "# fragment res\n",
    "ilc_fres_x_bp <- merge(unique(ilc_fres_x[,c(\"otherEndID\", \"atac\", \"k27ac\")]), unique(bp_all_rmap_annot[,c(\"fres_ID\", \"Feature_type\")]), \n",
    "                       by.x = \"otherEndID\", by.y = \"fres_ID\", all.x = TRUE)\n",
    "\n",
    "# 5kb res\n",
    "ilc_5kb_x_bp <- merge(unique(ilc_5kb_x[,c(\"otherEndID\", \"atac\", \"k27ac\")]), unique(bp_all_rmap_annot[,c(\"5kb_ID\", \"Feature_type\")]), \n",
    "                       by.x = \"otherEndID\", by.y = \"5kb_ID\", all.x = TRUE)\n",
    "\n",
    "# ## counting Feature types\n",
    "# bp_ilc_fres <- ilc_fres_x_bp[,.N, by = c(\"Feature_type\", ]\n",
    "# bp_ilc_5kb <- ilc_5kb_x_bp[,.N, by = \"Feature_type\"]\n",
    "\n",
    "# bp_ilc_fres[,Feature_type := ifelse(is.na(Feature_type), \"not_annotated\", Feature_type)]\n",
    "# bp_ilc_5kb[,Feature_type := ifelse(is.na(Feature_type), \"not_annotated\", Feature_type)]\n",
    "\n",
    "# bp_ilc_fres[,resolution := \"fragment\"]\n",
    "# bp_ilc_5kb[,resolution := \"5kb\"]\n"
   ]
  },
  {
   "cell_type": "code",
   "execution_count": 2,
   "metadata": {},
   "outputs": [
    {
     "name": "stderr",
     "output_type": "stream",
     "text": [
      "Warning message:\n",
      "“package ‘Chicago’ was built under R version 3.6.3”\n",
      "Warning message:\n",
      "“replacing previous import ‘vctrs::data_frame’ by ‘tibble::data_frame’ when loading ‘dplyr’”\n",
      "\n",
      "\n",
      "Welcome to CHiCAGO - version 1.14.0\n",
      "\n",
      "If you are new to CHiCAGO, please consider reading the vignette through the command: vignette(\"Chicago\").\n",
      "\n",
      "NOTE: Default values of tlb.minProxOEPerBin and tlb.minProxB2BPerBin changed as of Version 1.1.5. No action is required unless you specified non-default values, or wish to re-run the pipeline on old chicagoData objects. See news(package=\"Chicago\")\n",
      "\n"
     ]
    }
   ],
   "source": [
    "### annotating the chicago consensus set\n",
    "\n",
    "### This script checks which interactions are marked by ATAC and H3K27ac at PIRs\n",
    "\n",
    "library(data.table)\n",
    "library(Chicago)\n",
    "library(ggplot2)\n",
    "library(eulerr)\n",
    "\n",
    "consensus <- fread(\"~/miniPCHiC/hILCs/rcogs/git_hILCs_COGS/ILC3_chicago_fres_5kb_abc_fres_extended_peakm.txt\")"
   ]
  },
  {
   "cell_type": "code",
   "execution_count": 7,
   "metadata": {},
   "outputs": [],
   "source": [
    "chicago_consensus <- consensus[chicago_fres >= 5 | chicago_5kb >= 5][,atac := ifelse(oeID %in% atac_rmap$fres_ID, \"TRUE\", \"FALSE\")]\n",
    "chicago_consensus <- chicago_consensus[,k27ac := ifelse(oeID %in% k27ac_rmap$fres_ID, \"TRUE\", \"FALSE\")]\n",
    "\n",
    "chicago_consensus_bp <- merge(unique(chicago_consensus[,c(\"oeID\", \"atac\", \"k27ac\")]), unique(bp_all_rmap_annot[,c(\"fres_ID\", \"Feature_type\")]), \n",
    "                       by.x = \"oeID\", by.y = \"fres_ID\", all.x = TRUE)\n"
   ]
  },
  {
   "cell_type": "code",
   "execution_count": 9,
   "metadata": {},
   "outputs": [],
   "source": [
    "\n",
    "chicago_consensus_bp[,atac_k27ac := ifelse((atac == TRUE | k27ac == TRUE), \"TRUE\", \"FALSE\")]\n",
    "# ilc_fres_x_bp[,atac_k27ac := ifelse((atac == TRUE | k27ac == TRUE), \"TRUE\", \"FALSE\")]\n",
    "# ilc_5kb_x_bp[,atac_k27ac := ifelse((atac == TRUE | k27ac == TRUE), \"TRUE\", \"FALSE\")]\n",
    "\n",
    "chicago_consensus_bp[,Feature_type := ifelse(is.na(Feature_type), \"not_annotated\", Feature_type)]\n",
    "# ilc_fres_x_bp[,Feature_type := ifelse(is.na(Feature_type), \"not_annotated\", Feature_type)]\n",
    "# ilc_5kb_x_bp[,Feature_type := ifelse(is.na(Feature_type), \"not_annotated\", Feature_type)]\n"
   ]
  },
  {
   "cell_type": "code",
   "execution_count": 1,
   "metadata": {},
   "outputs": [
    {
     "ename": "ERROR",
     "evalue": "Error in nrow(chicago_consensus): object 'chicago_consensus' not found\n",
     "output_type": "error",
     "traceback": [
      "Error in nrow(chicago_consensus): object 'chicago_consensus' not found\nTraceback:\n",
      "1. nrow(chicago_consensus)"
     ]
    }
   ],
   "source": [
    "nrow(chicago_consensus)\n",
    "nrow(chicago_consensus[atac == TRUE | k27ac == TRUE])\n",
    "nrow(chicago_consensus[atac_k27ac == TRUE])"
   ]
  },
  {
   "cell_type": "code",
   "execution_count": 11,
   "metadata": {},
   "outputs": [
    {
     "data": {
      "text/html": [
       "0.0381388498532008"
      ],
      "text/latex": [
       "0.0381388498532008"
      ],
      "text/markdown": [
       "0.0381388498532008"
      ],
      "text/plain": [
       "[1] 0.03813885"
      ]
     },
     "metadata": {},
     "output_type": "display_data"
    }
   ],
   "source": [
    "35580/932907"
   ]
  },
  {
   "cell_type": "code",
   "execution_count": 14,
   "metadata": {},
   "outputs": [
    {
     "data": {
      "text/html": [
       "<table>\n",
       "<caption>A data.table: 6 × 5</caption>\n",
       "<thead>\n",
       "\t<tr><th scope=col>oeID</th><th scope=col>atac</th><th scope=col>k27ac</th><th scope=col>Feature_type</th><th scope=col>atac_k27ac</th></tr>\n",
       "\t<tr><th scope=col>&lt;int&gt;</th><th scope=col>&lt;chr&gt;</th><th scope=col>&lt;chr&gt;</th><th scope=col>&lt;chr&gt;</th><th scope=col>&lt;chr&gt;</th></tr>\n",
       "</thead>\n",
       "<tbody>\n",
       "\t<tr><td>2009</td><td>FALSE</td><td>FALSE</td><td>CTCF Binding Site</td><td>FALSE</td></tr>\n",
       "\t<tr><td>2010</td><td>FALSE</td><td>FALSE</td><td>CTCF Binding Site</td><td>FALSE</td></tr>\n",
       "\t<tr><td>2011</td><td>FALSE</td><td>FALSE</td><td>CTCF Binding Site</td><td>FALSE</td></tr>\n",
       "\t<tr><td>2012</td><td>FALSE</td><td>FALSE</td><td>CTCF Binding Site</td><td>FALSE</td></tr>\n",
       "\t<tr><td>2013</td><td>FALSE</td><td>FALSE</td><td>CTCF Binding Site</td><td>FALSE</td></tr>\n",
       "\t<tr><td>2014</td><td>FALSE</td><td>FALSE</td><td>not_annotated    </td><td>FALSE</td></tr>\n",
       "</tbody>\n",
       "</table>\n"
      ],
      "text/latex": [
       "A data.table: 6 × 5\n",
       "\\begin{tabular}{lllll}\n",
       " oeID & atac & k27ac & Feature\\_type & atac\\_k27ac\\\\\n",
       " <int> & <chr> & <chr> & <chr> & <chr>\\\\\n",
       "\\hline\n",
       "\t 2009 & FALSE & FALSE & CTCF Binding Site & FALSE\\\\\n",
       "\t 2010 & FALSE & FALSE & CTCF Binding Site & FALSE\\\\\n",
       "\t 2011 & FALSE & FALSE & CTCF Binding Site & FALSE\\\\\n",
       "\t 2012 & FALSE & FALSE & CTCF Binding Site & FALSE\\\\\n",
       "\t 2013 & FALSE & FALSE & CTCF Binding Site & FALSE\\\\\n",
       "\t 2014 & FALSE & FALSE & not\\_annotated     & FALSE\\\\\n",
       "\\end{tabular}\n"
      ],
      "text/markdown": [
       "\n",
       "A data.table: 6 × 5\n",
       "\n",
       "| oeID &lt;int&gt; | atac &lt;chr&gt; | k27ac &lt;chr&gt; | Feature_type &lt;chr&gt; | atac_k27ac &lt;chr&gt; |\n",
       "|---|---|---|---|---|\n",
       "| 2009 | FALSE | FALSE | CTCF Binding Site | FALSE |\n",
       "| 2010 | FALSE | FALSE | CTCF Binding Site | FALSE |\n",
       "| 2011 | FALSE | FALSE | CTCF Binding Site | FALSE |\n",
       "| 2012 | FALSE | FALSE | CTCF Binding Site | FALSE |\n",
       "| 2013 | FALSE | FALSE | CTCF Binding Site | FALSE |\n",
       "| 2014 | FALSE | FALSE | not_annotated     | FALSE |\n",
       "\n"
      ],
      "text/plain": [
       "  oeID atac  k27ac Feature_type      atac_k27ac\n",
       "1 2009 FALSE FALSE CTCF Binding Site FALSE     \n",
       "2 2010 FALSE FALSE CTCF Binding Site FALSE     \n",
       "3 2011 FALSE FALSE CTCF Binding Site FALSE     \n",
       "4 2012 FALSE FALSE CTCF Binding Site FALSE     \n",
       "5 2013 FALSE FALSE CTCF Binding Site FALSE     \n",
       "6 2014 FALSE FALSE not_annotated     FALSE     "
      ]
     },
     "metadata": {},
     "output_type": "display_data"
    }
   ],
   "source": [
    "head(chicago_consensus_bp)"
   ]
  },
  {
   "cell_type": "code",
   "execution_count": 15,
   "metadata": {},
   "outputs": [],
   "source": [
    "# ilc_fres_x_bp <- ilc_fres_x_bp[,.N, by = c(\"Feature_type\", \"atac_k27ac\")]\n",
    "# ilc_5kb_x_bp <- ilc_5kb_x_bp[,.N, by = c(\"Feature_type\", \"atac_k27ac\")]\n",
    "chicago_consensus_bp <- chicago_consensus_bp[,.N, by = c(\"Feature_type\", \"atac_k27ac\")]\n",
    "\n",
    "chicago_consensus_bp[,resolution := \"chicago_consensus\"]\n",
    "# ilc_fres_x_bp[,resolution := \"chicago_fragment_resolution\"]\n",
    "# ilc_5kb_x_bp[,resolution := \"chicago_5kb_resolution\"]"
   ]
  },
  {
   "cell_type": "code",
   "execution_count": 68,
   "metadata": {},
   "outputs": [
    {
     "ename": "ERROR",
     "evalue": "Error in geom_bar_pattern(stat = \"identity\", pattern_color = \"white\", : could not find function \"geom_bar_pattern\"\n",
     "output_type": "error",
     "traceback": [
      "Error in geom_bar_pattern(stat = \"identity\", pattern_color = \"white\", : could not find function \"geom_bar_pattern\"\nTraceback:\n"
     ]
    }
   ],
   "source": [
    "bp_ilc_ressum <- rbind(ilc_fres_x_bp, ilc_5kb_x_bp, chicago_consensus_bp)\n",
    "\n",
    "## plotting\n",
    "\n",
    "bp_ilc_ressum$Feature_type <- factor(bp_ilc_ressum$Feature_type, \n",
    "                                     levels = c(\"not_annotated\", 'Open chromatin', 'Enhancer', 'TF binding site',\n",
    "                                               \"CTCF Binding Site\", \"Promoter\", \"Promoter Flanking Region\"))\n",
    "\n",
    "bp_ilc_ressum$resolution <- factor(bp_ilc_ressum$resolution, \n",
    "                                     levels = c(\"chicago_fragment_resolution\", 'chicago_5kb_resolution', 'chicago_consensus'))\n",
    "\n",
    "p <- ggplot(bp_ilc_ressum, aes(fill=atac_k27ac, y=N, x=resolution)) + \n",
    "      geom_bar(position=\"stack\", stat=\"identity\") +\n",
    "#       scale_fill_manual(values = c(\"chicago_fragment_resolution\" = \"#045a8d\",\n",
    "#                                    \"chicago_5kb_resolution\"=\"#74a9cf\",\n",
    "#                                    \"chicago_consensus\" = \"#969696\")) + \n",
    "    facet_grid(~ Feature_type) + \n",
    "      ylab(\"number of annotated features\") +\n",
    "      theme(axis.text.x = element_text(size = 6, angle = 45, vjust = 1, hjust=1),\n",
    "            axis.title.x= element_blank(),\n",
    "            axis.text.y = element_text(size = 6),\n",
    "            axis.title.y = element_text(size = 6, colour = \"grey30\"),\n",
    "            legend.title = element_text(size=6, colour = \"grey30\"),\n",
    "            legend.text = element_text(size=6, colour = \"grey30\"),\n",
    "            legend.key.width = unit(0.3, 'cm'),\n",
    "            legend.key.height = unit(0.3, 'cm'),\n",
    "            panel.background = element_rect(fill = \"white\"),\n",
    "            axis.line.x=element_line(color=\"grey30\"),\n",
    "            axis.line.y=element_line(color=\"grey30\")\n",
    "            )\n",
    "\n",
    "# ggsave(\"~/miniPCHiC/hILCs/hILCs_run2/Chicago/ILC_PIRs_Blueprint_annotation.pdf\", p, width = 4, height = 3, useDingbats=FALSE)\n",
    "\n"
   ]
  },
  {
   "cell_type": "code",
   "execution_count": 25,
   "metadata": {},
   "outputs": [],
   "source": [
    "chicago_consensus_bp$Feature_type <- factor(chicago_consensus_bp$Feature_type, \n",
    "                                     levels = c(\"not_annotated\", 'Open chromatin', 'Enhancer', 'TF binding site',\n",
    "                                               \"CTCF Binding Site\", \"Promoter\", \"Promoter Flanking Region\"))\n"
   ]
  },
  {
   "cell_type": "code",
   "execution_count": 33,
   "metadata": {},
   "outputs": [],
   "source": [
    "p <- ggplot(chicago_consensus_bp[atac_k27ac == \"TRUE\"], aes(y=N, x=Feature_type, fill = \"#fdae61\")) + \n",
    "      geom_bar(position=\"stack\", stat=\"identity\") +\n",
    "#       scale_fill_manual(values = c(\"chicago_fragment_resolution\" = \"#045a8d\",\n",
    "#                                    \"chicago_5kb_resolution\"=\"#74a9cf\",\n",
    "#                                    \"chicago_consensus\" = \"#969696\")) + \n",
    "      ylab(\"number of annotated features\") +\n",
    "      theme(axis.text.x = element_text(size = 6, angle = 45, vjust = 1, hjust=1),\n",
    "            axis.title.x= element_blank(),\n",
    "            axis.text.y = element_text(size = 6),\n",
    "            axis.title.y = element_text(size = 6, colour = \"grey30\"),\n",
    "            legend.title = element_text(size=6, colour = \"grey30\"),\n",
    "            legend.text = element_text(size=6, colour = \"grey30\"),\n",
    "            legend.key.width = unit(0.3, 'cm'),\n",
    "            legend.key.height = unit(0.3, 'cm'),\n",
    "            panel.background = element_rect(fill = \"white\"),\n",
    "            axis.line.x=element_line(color=\"grey30\"),\n",
    "            axis.line.y=element_line(color=\"grey30\")\n",
    "            )\n",
    "\n"
   ]
  },
  {
   "cell_type": "code",
   "execution_count": 37,
   "metadata": {},
   "outputs": [
    {
     "data": {
      "image/png": "[encoded data removed]",
      "text/plain": [
       "plot without title"
      ]
     },
     "metadata": {
      "image/png": {
       "height": 420,
       "width": 420
      }
     },
     "output_type": "display_data"
    }
   ],
   "source": [
    "p"
   ]
  },
  {
   "cell_type": "code",
   "execution_count": 35,
   "metadata": {},
   "outputs": [],
   "source": [
    "ggsave(\"~/miniPCHiC/hILCs/hILCs_run2/git_hILCs_PCHiC/ILC_merged_act_PIRs_Blueprint_annotation.pdf\", p, width = 2.5, height = 3, useDingbats=FALSE)\n"
   ]
  },
  {
   "cell_type": "code",
   "execution_count": 38,
   "metadata": {},
   "outputs": [],
   "source": [
    "ilc_abc_re <- fread(\"~/miniPCHiC/hILCs/spivakov_pchic_ILC_CD4/data/outputs/expression_analysis/ILC_5kb_within_newbmap_CHiCAGO_ABC_peakm_RE.tsv\")\n"
   ]
  },
  {
   "cell_type": "code",
   "execution_count": 39,
   "metadata": {},
   "outputs": [
    {
     "data": {
      "text/html": [
       "<table>\n",
       "<caption>A data.table: 6 × 18</caption>\n",
       "<thead>\n",
       "\t<tr><th scope=col>baitChr</th><th scope=col>baitStart</th><th scope=col>baitEnd</th><th scope=col>baitID</th><th scope=col>baitName</th><th scope=col>oeChr</th><th scope=col>oeStart</th><th scope=col>oeEnd</th><th scope=col>oeID</th><th scope=col>oeName</th><th scope=col>baitID_5kb</th><th scope=col>oeID_5kb</th><th scope=col>dist</th><th scope=col>chicago_fres</th><th scope=col>chicago_5kb</th><th scope=col>ABC.Score</th><th scope=col>atac</th><th scope=col>k27ac</th></tr>\n",
       "\t<tr><th scope=col>&lt;chr&gt;</th><th scope=col>&lt;int&gt;</th><th scope=col>&lt;int&gt;</th><th scope=col>&lt;int&gt;</th><th scope=col>&lt;chr&gt;</th><th scope=col>&lt;chr&gt;</th><th scope=col>&lt;int&gt;</th><th scope=col>&lt;int&gt;</th><th scope=col>&lt;int&gt;</th><th scope=col>&lt;chr&gt;</th><th scope=col>&lt;int&gt;</th><th scope=col>&lt;int&gt;</th><th scope=col>&lt;dbl&gt;</th><th scope=col>&lt;dbl&gt;</th><th scope=col>&lt;dbl&gt;</th><th scope=col>&lt;dbl&gt;</th><th scope=col>&lt;chr&gt;</th><th scope=col>&lt;chr&gt;</th></tr>\n",
       "</thead>\n",
       "<tbody>\n",
       "\t<tr><td>1</td><td>995927</td><td>1000058</td><td>2052</td><td>HES4</td><td>1</td><td>989911</td><td>990058</td><td>2027</td><td></td><td>173</td><td>171</td><td>-5475</td><td>NA</td><td>5.148217</td><td>NA</td><td>FALSE</td><td>FALSE</td></tr>\n",
       "\t<tr><td>1</td><td>995927</td><td>1000058</td><td>2052</td><td>HES4</td><td>1</td><td>990059</td><td>990235</td><td>2028</td><td></td><td>173</td><td>171</td><td>-5475</td><td>NA</td><td>5.148217</td><td>NA</td><td>FALSE</td><td>FALSE</td></tr>\n",
       "\t<tr><td>1</td><td>995927</td><td>1000058</td><td>2052</td><td>HES4</td><td>1</td><td>990236</td><td>990776</td><td>2029</td><td></td><td>173</td><td>171</td><td>-5475</td><td>NA</td><td>5.148217</td><td>NA</td><td>FALSE</td><td>FALSE</td></tr>\n",
       "\t<tr><td>1</td><td>995927</td><td>1000058</td><td>2052</td><td>HES4</td><td>1</td><td>990777</td><td>991054</td><td>2030</td><td></td><td>173</td><td>171</td><td>-5475</td><td>NA</td><td>5.148217</td><td>NA</td><td>FALSE</td><td>FALSE</td></tr>\n",
       "\t<tr><td>1</td><td>995927</td><td>1000058</td><td>2052</td><td>HES4</td><td>1</td><td>991055</td><td>991149</td><td>2031</td><td></td><td>173</td><td>171</td><td>-5475</td><td>NA</td><td>5.148217</td><td>NA</td><td>FALSE</td><td>FALSE</td></tr>\n",
       "\t<tr><td>1</td><td>995927</td><td>1000058</td><td>2052</td><td>HES4</td><td>1</td><td>991150</td><td>991423</td><td>2032</td><td></td><td>173</td><td>171</td><td>-5475</td><td>NA</td><td>5.148217</td><td>NA</td><td>FALSE</td><td>FALSE</td></tr>\n",
       "</tbody>\n",
       "</table>\n"
      ],
      "text/latex": [
       "A data.table: 6 × 18\n",
       "\\begin{tabular}{llllllllllllllllll}\n",
       " baitChr & baitStart & baitEnd & baitID & baitName & oeChr & oeStart & oeEnd & oeID & oeName & baitID\\_5kb & oeID\\_5kb & dist & chicago\\_fres & chicago\\_5kb & ABC.Score & atac & k27ac\\\\\n",
       " <chr> & <int> & <int> & <int> & <chr> & <chr> & <int> & <int> & <int> & <chr> & <int> & <int> & <dbl> & <dbl> & <dbl> & <dbl> & <chr> & <chr>\\\\\n",
       "\\hline\n",
       "\t 1 & 995927 & 1000058 & 2052 & HES4 & 1 & 989911 & 990058 & 2027 &  & 173 & 171 & -5475 & NA & 5.148217 & NA & FALSE & FALSE\\\\\n",
       "\t 1 & 995927 & 1000058 & 2052 & HES4 & 1 & 990059 & 990235 & 2028 &  & 173 & 171 & -5475 & NA & 5.148217 & NA & FALSE & FALSE\\\\\n",
       "\t 1 & 995927 & 1000058 & 2052 & HES4 & 1 & 990236 & 990776 & 2029 &  & 173 & 171 & -5475 & NA & 5.148217 & NA & FALSE & FALSE\\\\\n",
       "\t 1 & 995927 & 1000058 & 2052 & HES4 & 1 & 990777 & 991054 & 2030 &  & 173 & 171 & -5475 & NA & 5.148217 & NA & FALSE & FALSE\\\\\n",
       "\t 1 & 995927 & 1000058 & 2052 & HES4 & 1 & 991055 & 991149 & 2031 &  & 173 & 171 & -5475 & NA & 5.148217 & NA & FALSE & FALSE\\\\\n",
       "\t 1 & 995927 & 1000058 & 2052 & HES4 & 1 & 991150 & 991423 & 2032 &  & 173 & 171 & -5475 & NA & 5.148217 & NA & FALSE & FALSE\\\\\n",
       "\\end{tabular}\n"
      ],
      "text/markdown": [
       "\n",
       "A data.table: 6 × 18\n",
       "\n",
       "| baitChr &lt;chr&gt; | baitStart &lt;int&gt; | baitEnd &lt;int&gt; | baitID &lt;int&gt; | baitName &lt;chr&gt; | oeChr &lt;chr&gt; | oeStart &lt;int&gt; | oeEnd &lt;int&gt; | oeID &lt;int&gt; | oeName &lt;chr&gt; | baitID_5kb &lt;int&gt; | oeID_5kb &lt;int&gt; | dist &lt;dbl&gt; | chicago_fres &lt;dbl&gt; | chicago_5kb &lt;dbl&gt; | ABC.Score &lt;dbl&gt; | atac &lt;chr&gt; | k27ac &lt;chr&gt; |\n",
       "|---|---|---|---|---|---|---|---|---|---|---|---|---|---|---|---|---|---|\n",
       "| 1 | 995927 | 1000058 | 2052 | HES4 | 1 | 989911 | 990058 | 2027 | <!----> | 173 | 171 | -5475 | NA | 5.148217 | NA | FALSE | FALSE |\n",
       "| 1 | 995927 | 1000058 | 2052 | HES4 | 1 | 990059 | 990235 | 2028 | <!----> | 173 | 171 | -5475 | NA | 5.148217 | NA | FALSE | FALSE |\n",
       "| 1 | 995927 | 1000058 | 2052 | HES4 | 1 | 990236 | 990776 | 2029 | <!----> | 173 | 171 | -5475 | NA | 5.148217 | NA | FALSE | FALSE |\n",
       "| 1 | 995927 | 1000058 | 2052 | HES4 | 1 | 990777 | 991054 | 2030 | <!----> | 173 | 171 | -5475 | NA | 5.148217 | NA | FALSE | FALSE |\n",
       "| 1 | 995927 | 1000058 | 2052 | HES4 | 1 | 991055 | 991149 | 2031 | <!----> | 173 | 171 | -5475 | NA | 5.148217 | NA | FALSE | FALSE |\n",
       "| 1 | 995927 | 1000058 | 2052 | HES4 | 1 | 991150 | 991423 | 2032 | <!----> | 173 | 171 | -5475 | NA | 5.148217 | NA | FALSE | FALSE |\n",
       "\n"
      ],
      "text/plain": [
       "  baitChr baitStart baitEnd baitID baitName oeChr oeStart oeEnd  oeID oeName\n",
       "1 1       995927    1000058 2052   HES4     1     989911  990058 2027       \n",
       "2 1       995927    1000058 2052   HES4     1     990059  990235 2028       \n",
       "3 1       995927    1000058 2052   HES4     1     990236  990776 2029       \n",
       "4 1       995927    1000058 2052   HES4     1     990777  991054 2030       \n",
       "5 1       995927    1000058 2052   HES4     1     991055  991149 2031       \n",
       "6 1       995927    1000058 2052   HES4     1     991150  991423 2032       \n",
       "  baitID_5kb oeID_5kb dist  chicago_fres chicago_5kb ABC.Score atac  k27ac\n",
       "1 173        171      -5475 NA           5.148217    NA        FALSE FALSE\n",
       "2 173        171      -5475 NA           5.148217    NA        FALSE FALSE\n",
       "3 173        171      -5475 NA           5.148217    NA        FALSE FALSE\n",
       "4 173        171      -5475 NA           5.148217    NA        FALSE FALSE\n",
       "5 173        171      -5475 NA           5.148217    NA        FALSE FALSE\n",
       "6 173        171      -5475 NA           5.148217    NA        FALSE FALSE"
      ]
     },
     "metadata": {},
     "output_type": "display_data"
    }
   ],
   "source": [
    "head(chicago_consensus)"
   ]
  },
  {
   "cell_type": "code",
   "execution_count": 70,
   "metadata": {},
   "outputs": [
    {
     "name": "stderr",
     "output_type": "stream",
     "text": [
      "Warning message:\n",
      "“Removed 81 rows containing missing values (stat_boxplot).”\n",
      "Warning message:\n",
      "“Removed 1 rows containing non-finite values (stat_boxplot).”\n",
      "Warning message:\n",
      "“Removed 82 rows containing non-finite values (stat_summary).”\n",
      "Warning message:\n",
      "“Removed 81 rows containing missing values (stat_boxplot).”\n",
      "Warning message:\n",
      "“Removed 1 rows containing non-finite values (stat_boxplot).”\n",
      "Warning message:\n",
      "“Removed 82 rows containing non-finite values (stat_summary).”\n"
     ]
    },
    {
     "data": {
      "image/png": "[encoded data removed]",
      "text/plain": [
       "plot without title"
      ]
     },
     "metadata": {
      "image/png": {
       "height": 420,
       "width": 420
      }
     },
     "output_type": "display_data"
    }
   ],
   "source": [
    "consensus_actop_pirs <- unique(chicago_consensus[atac == TRUE | k27ac == TRUE])[, c(\"baitName\", \"baitID\", \"oeID\")]\n",
    "\n",
    "consensus_actop_pirs_ge <- merge(consensus_actop_pirs, ilc_abc_re[,c(\"Gene_Name\", \"Mean_Gene_Expression\")], \n",
    "                      by.x = c(\"baitName\"), by.y = c(\"Gene_Name\"), all.x = TRUE)\n",
    "\n",
    "consensus_actop_pirs_ge <- consensus_actop_pirs_ge[!is.na(Mean_Gene_Expression)]\n",
    "consensus_actop_pirs_ge_sum <- consensus_actop_pirs_ge[,.N, by = c(\"baitName\", \"Mean_Gene_Expression\")]\n",
    "\n",
    "p1 <- ggplot(consensus_actop_pirs_ge_sum, aes(N, log(Mean_Gene_Expression,10))) +\n",
    "        geom_boxplot(aes(group = cut_width(N, 1)), outlier.alpha = 0) +\n",
    "        ylim(0,5) + xlim(0,22.5) + \n",
    "        theme_minimal() +\n",
    "        stat_summary(fun=median, geom=\"point\",colour=\"darkred\", size=1) +\n",
    "        xlab(\"number of contacting active regulatory elements\") + ylab(\"log10(mean expression)\")\n",
    "\n",
    "p1\n",
    "ggsave(\"~/miniPCHiC/hILCs/gene_expression_vs_contacts/ILC_merged_actop_PIRs_GE.pdf\", p1, width = 2.5, height = 3.5, useDingbats=FALSE)\n"
   ]
  },
  {
   "cell_type": "code",
   "execution_count": 71,
   "metadata": {},
   "outputs": [
    {
     "data": {
      "text/html": [
       "0.327869921245769"
      ],
      "text/latex": [
       "0.327869921245769"
      ],
      "text/markdown": [
       "0.327869921245769"
      ],
      "text/plain": [
       "[1] 0.3278699"
      ]
     },
     "metadata": {},
     "output_type": "display_data"
    }
   ],
   "source": [
    "cor(consensus_actop_pirs_ge_sum$N, consensus_actop_pirs_ge_sum$Mean_Gene_Expression, method = \"spearman\")"
   ]
  },
  {
   "cell_type": "code",
   "execution_count": 69,
   "metadata": {},
   "outputs": [
    {
     "name": "stderr",
     "output_type": "stream",
     "text": [
      "Warning message:\n",
      "“Removed 2 rows containing missing values (stat_boxplot).”\n",
      "Warning message:\n",
      "“Removed 2 rows containing non-finite values (stat_boxplot).”\n",
      "Warning message:\n",
      "“Removed 4 rows containing non-finite values (stat_summary).”\n",
      "Warning message:\n",
      "“Removed 2 rows containing missing values (stat_boxplot).”\n",
      "Warning message:\n",
      "“Removed 2 rows containing non-finite values (stat_boxplot).”\n",
      "Warning message:\n",
      "“Removed 4 rows containing non-finite values (stat_summary).”\n"
     ]
    },
    {
     "data": {
      "image/png": "[encoded data removed]",
      "text/plain": [
       "plot without title"
      ]
     },
     "metadata": {
      "image/png": {
       "height": 420,
       "width": 420
      }
     },
     "output_type": "display_data"
    }
   ],
   "source": [
    "consensus_actandop_pirs <- unique(chicago_consensus[atac == TRUE & k27ac == TRUE])[, c(\"baitName\", \"baitID\", \"oeID\")]\n",
    "\n",
    "consensus_actandop_pirs_ge <- merge(consensus_actandop_pirs, ilc_abc_re[,c(\"Gene_Name\", \"Mean_Gene_Expression\")], \n",
    "                      by.x = c(\"baitName\"), by.y = c(\"Gene_Name\"), all.x = TRUE)\n",
    "\n",
    "consensus_actandop_pirs_ge <- consensus_actandop_pirs_ge[!is.na(Mean_Gene_Expression)]\n",
    "consensus_actandop_pirs_ge_sum <- consensus_actandop_pirs_ge[,.N, by = c(\"baitName\", \"Mean_Gene_Expression\")]\n",
    "\n",
    "p2 <- ggplot(consensus_actandop_pirs_ge_sum, aes(N, log(Mean_Gene_Expression,10))) +\n",
    "        geom_boxplot(aes(group = cut_width(N, 1)), outlier.alpha = 0) +\n",
    "        ylim(0,5) + xlim(0,22.5) + \n",
    "        theme_minimal() +\n",
    "        stat_summary(fun=median, geom=\"point\",colour=\"darkred\", size=1) +\n",
    "        xlab(\"number of contacting active regulatory elements\") + ylab(\"log10(mean expression)\")\n",
    "\n",
    "p2\n",
    "ggsave(\"~/miniPCHiC/hILCs/gene_expression_vs_contacts/ILC_merged_actandop_PIRs_GE.pdf\", p2, width = 2.5, height = 3, useDingbats=FALSE)\n"
   ]
  },
  {
   "cell_type": "code",
   "execution_count": 66,
   "metadata": {},
   "outputs": [
    {
     "name": "stderr",
     "output_type": "stream",
     "text": [
      "Warning message:\n",
      "“Removed 81 rows containing missing values (stat_boxplot).”\n",
      "Warning message:\n",
      "“Removed 1 rows containing non-finite values (stat_boxplot).”\n",
      "Warning message:\n",
      "“Removed 82 rows containing non-finite values (stat_summary).”\n"
     ]
    }
   ],
   "source": []
  },
  {
   "cell_type": "code",
   "execution_count": 98,
   "metadata": {},
   "outputs": [],
   "source": [
    "p1 <- ggplot(bp_ilc_ressum[atac_k27ac == TRUE], aes(fill=resolution, y=N, x=Feature_type)) + \n",
    "      geom_bar(position=\"dodge\", stat=\"identity\") +\n",
    "      scale_fill_manual(values = c(\"chicago_fragment_resolution\" = \"#045a8d\",\n",
    "                                   \"chicago_5kb_resolution\"=\"#74a9cf\",\n",
    "                                   \"chicago_consensus\" = \"#969696\")) + \n",
    "      ylab(\"number of annotated features\") +\n",
    "      theme(axis.text.x = element_text(size = 6, angle = 45, vjust = 1, hjust=1),\n",
    "            axis.title.x= element_blank(),\n",
    "            axis.text.y = element_text(size = 6),\n",
    "            axis.title.y = element_text(size = 6, colour = \"grey30\"),\n",
    "            legend.title = element_text(size=6, colour = \"grey30\"),\n",
    "            legend.text = element_text(size=6, colour = \"grey30\"),\n",
    "            legend.key.width = unit(0.3, 'cm'),\n",
    "            legend.key.height = unit(0.3, 'cm'),\n",
    "            panel.background = element_rect(fill = \"white\"),\n",
    "            axis.line.x=element_line(color=\"grey30\"),\n",
    "            axis.line.y=element_line(color=\"grey30\")\n",
    "            )\n",
    "\n",
    "# ggsave(\"~/miniPCHiC/hILCs/hILCs_run2/Chicago/ILC_PIRs_Blueprint_annotation.pdf\", p, width = 4, height = 3, useDingbats=FALSE)\n",
    "\n"
   ]
  },
  {
   "cell_type": "code",
   "execution_count": 99,
   "metadata": {},
   "outputs": [
    {
     "data": {
      "image/png": "[encoded data removed]",
      "text/plain": [
       "plot without title"
      ]
     },
     "metadata": {
      "image/png": {
       "height": 420,
       "width": 420
      }
     },
     "output_type": "display_data"
    }
   ],
   "source": [
    "p1"
   ]
  },
  {
   "cell_type": "code",
   "execution_count": 96,
   "metadata": {},
   "outputs": [],
   "source": [
    "p3 <- ggplot(bp_ilc_ressum[resolution != \"chicago_consensus\"], aes(fill=atac_k27ac, y=N, x=resolution)) + \n",
    "      geom_bar(position=\"stack\", stat=\"identity\") +\n",
    "#       scale_fill_manual(values = c(\"chicago_fragment_resolution\" = \"#045a8d\",\n",
    "#                                    \"chicago_5kb_resolution\"=\"#74a9cf\",\n",
    "#                                    \"chicago_consensus\" = \"#969696\")) + \n",
    "     scale_fill_manual(values = c(\"TRUE\" = \"tomato3\",\n",
    "                                   \"FALSE\"=\"#045a8d\")) + \n",
    "    facet_grid(~ Feature_type) + \n",
    "      ylab(\"number of annotated features\") +\n",
    "      theme(axis.text.x = element_text(size = 6, angle = 45, vjust = 1, hjust=1),\n",
    "            axis.title.x= element_blank(),\n",
    "            axis.text.y = element_text(size = 6),\n",
    "            axis.title.y = element_text(size = 6, colour = \"grey30\"),\n",
    "            legend.title = element_text(size=6, colour = \"grey30\"),\n",
    "            legend.text = element_text(size=6, colour = \"grey30\"),\n",
    "            legend.key.width = unit(0.3, 'cm'),\n",
    "            legend.key.height = unit(0.3, 'cm'),\n",
    "            panel.background = element_rect(fill = \"white\"),\n",
    "            axis.line.x=element_line(color=\"grey30\"),\n",
    "            axis.line.y=element_line(color=\"grey30\")\n",
    "            )\n",
    "\n",
    "\n"
   ]
  },
  {
   "cell_type": "code",
   "execution_count": 97,
   "metadata": {},
   "outputs": [
    {
     "data": {
      "image/png": "[encoded data removed]",
      "text/plain": [
       "plot without title"
      ]
     },
     "metadata": {
      "image/png": {
       "height": 420,
       "width": 420
      }
     },
     "output_type": "display_data"
    }
   ],
   "source": [
    "p3"
   ]
  },
  {
   "cell_type": "code",
   "execution_count": 103,
   "metadata": {},
   "outputs": [
    {
     "data": {
      "text/html": [
       "3289"
      ],
      "text/latex": [
       "3289"
      ],
      "text/markdown": [
       "3289"
      ],
      "text/plain": [
       "[1] 3289"
      ]
     },
     "metadata": {},
     "output_type": "display_data"
    }
   ],
   "source": [
    "nrow(chicago_consensus[(ABC.Score >=5 & chicago_5kb >=5) | (ABC.Score >=5 & chicago_fres >=5)])"
   ]
  },
  {
   "cell_type": "code",
   "execution_count": 104,
   "metadata": {},
   "outputs": [
    {
     "data": {
      "text/html": [
       "<table>\n",
       "<caption>A data.table: 6 × 25</caption>\n",
       "<thead>\n",
       "\t<tr><th scope=col>baitID</th><th scope=col>otherEndID</th><th scope=col>distbin</th><th scope=col>s_j</th><th scope=col>otherEndLen</th><th scope=col>distSign</th><th scope=col>isBait2bait</th><th scope=col>N.1</th><th scope=col>N.2</th><th scope=col>N.3</th><th scope=col>⋯</th><th scope=col>tlb</th><th scope=col>tblb</th><th scope=col>Tmean</th><th scope=col>Bmean</th><th scope=col>log.p</th><th scope=col>log.w</th><th scope=col>log.q</th><th scope=col>score</th><th scope=col>atac</th><th scope=col>k27ac</th></tr>\n",
       "\t<tr><th scope=col>&lt;int&gt;</th><th scope=col>&lt;int&gt;</th><th scope=col>&lt;fct&gt;</th><th scope=col>&lt;dbl&gt;</th><th scope=col>&lt;int&gt;</th><th scope=col>&lt;int&gt;</th><th scope=col>&lt;lgl&gt;</th><th scope=col>&lt;int&gt;</th><th scope=col>&lt;int&gt;</th><th scope=col>&lt;int&gt;</th><th scope=col>⋯</th><th scope=col>&lt;fct&gt;</th><th scope=col>&lt;fct&gt;</th><th scope=col>&lt;dbl&gt;</th><th scope=col>&lt;dbl&gt;</th><th scope=col>&lt;dbl&gt;</th><th scope=col>&lt;dbl&gt;</th><th scope=col>&lt;dbl&gt;</th><th scope=col>&lt;dbl&gt;</th><th scope=col>&lt;chr&gt;</th><th scope=col>&lt;chr&gt;</th></tr>\n",
       "</thead>\n",
       "<tbody>\n",
       "\t<tr><td>173</td><td>   171</td><td>(0,2e+04]      </td><td>0.5967814</td><td>5214</td><td>  -5475</td><td>FALSE</td><td>31</td><td>21</td><td>41</td><td>⋯</td><td>(62,226]  </td><td>[ 317, 357)</td><td>0.002170325</td><td>11.1585324</td><td> -5.148224</td><td> 7.604980</td><td>-12.75320</td><td> 5.148217</td><td>FALSE</td><td>FALSE</td></tr>\n",
       "\t<tr><td>179</td><td>229906</td><td>NA             </td><td>0.9481301</td><td>1079</td><td>     NA</td><td> TRUE</td><td> 0</td><td> 0</td><td> 6</td><td>⋯</td><td>(26,39]B2B</td><td>[ 750, 830)</td><td>0.001772935</td><td> 0.0000000</td><td>-20.798445</td><td>-2.452860</td><td>-18.34559</td><td>10.740598</td><td>TRUE </td><td>FALSE</td></tr>\n",
       "\t<tr><td>179</td><td>   176</td><td>(0,2e+04]      </td><td>0.9481301</td><td>5186</td><td>  -8712</td><td>FALSE</td><td>48</td><td>32</td><td>38</td><td>⋯</td><td>(62,226]  </td><td>[ 750, 830)</td><td>0.004232449</td><td>10.6999219</td><td> -7.256617</td><td> 7.604963</td><td>-14.86158</td><td> 7.256594</td><td>TRUE </td><td>FALSE</td></tr>\n",
       "\t<tr><td>179</td><td>   170</td><td>(2e+04,4e+04]  </td><td>0.9481301</td><td>5398</td><td> -26272</td><td>FALSE</td><td>20</td><td> 3</td><td>13</td><td>⋯</td><td>(62,226]  </td><td>[ 750, 830)</td><td>0.004232449</td><td> 3.4182392</td><td> -5.537329</td><td> 7.604574</td><td>-13.14190</td><td> 5.536916</td><td>FALSE</td><td>FALSE</td></tr>\n",
       "\t<tr><td>179</td><td>   254</td><td>(2.8e+05,3e+05]</td><td>0.9481301</td><td>5062</td><td> 290411</td><td>FALSE</td><td> 2</td><td> 1</td><td> 6</td><td>⋯</td><td>(28,35]   </td><td>[ 750, 830)</td><td>0.001770231</td><td> 0.5031257</td><td> -5.526849</td><td> 7.416891</td><td>-12.94374</td><td> 5.338753</td><td>FALSE</td><td>FALSE</td></tr>\n",
       "\t<tr><td>234</td><td>   206</td><td>(1e+05,1.2e+05]</td><td>0.7835963</td><td>5303</td><td>-111691</td><td>FALSE</td><td> 7</td><td> 2</td><td>11</td><td>⋯</td><td>(62,226]  </td><td>[ 404, 451)</td><td>0.002566185</td><td> 0.7996440</td><td> -9.850208</td><td> 7.587667</td><td>-17.43787</td><td> 9.832887</td><td>TRUE </td><td>FALSE</td></tr>\n",
       "</tbody>\n",
       "</table>\n"
      ],
      "text/latex": [
       "A data.table: 6 × 25\n",
       "\\begin{tabular}{lllllllllllllllllllll}\n",
       " baitID & otherEndID & distbin & s\\_j & otherEndLen & distSign & isBait2bait & N.1 & N.2 & N.3 & ⋯ & tlb & tblb & Tmean & Bmean & log.p & log.w & log.q & score & atac & k27ac\\\\\n",
       " <int> & <int> & <fct> & <dbl> & <int> & <int> & <lgl> & <int> & <int> & <int> & ⋯ & <fct> & <fct> & <dbl> & <dbl> & <dbl> & <dbl> & <dbl> & <dbl> & <chr> & <chr>\\\\\n",
       "\\hline\n",
       "\t 173 &    171 & (0,2e+04{]}       & 0.5967814 & 5214 &   -5475 & FALSE & 31 & 21 & 41 & ⋯ & (62,226{]}   & {[} 317, 357) & 0.002170325 & 11.1585324 &  -5.148224 &  7.604980 & -12.75320 &  5.148217 & FALSE & FALSE\\\\\n",
       "\t 179 & 229906 & NA              & 0.9481301 & 1079 &      NA &  TRUE &  0 &  0 &  6 & ⋯ & (26,39{]}B2B & {[} 750, 830) & 0.001772935 &  0.0000000 & -20.798445 & -2.452860 & -18.34559 & 10.740598 & TRUE  & FALSE\\\\\n",
       "\t 179 &    176 & (0,2e+04{]}       & 0.9481301 & 5186 &   -8712 & FALSE & 48 & 32 & 38 & ⋯ & (62,226{]}   & {[} 750, 830) & 0.004232449 & 10.6999219 &  -7.256617 &  7.604963 & -14.86158 &  7.256594 & TRUE  & FALSE\\\\\n",
       "\t 179 &    170 & (2e+04,4e+04{]}   & 0.9481301 & 5398 &  -26272 & FALSE & 20 &  3 & 13 & ⋯ & (62,226{]}   & {[} 750, 830) & 0.004232449 &  3.4182392 &  -5.537329 &  7.604574 & -13.14190 &  5.536916 & FALSE & FALSE\\\\\n",
       "\t 179 &    254 & (2.8e+05,3e+05{]} & 0.9481301 & 5062 &  290411 & FALSE &  2 &  1 &  6 & ⋯ & (28,35{]}    & {[} 750, 830) & 0.001770231 &  0.5031257 &  -5.526849 &  7.416891 & -12.94374 &  5.338753 & FALSE & FALSE\\\\\n",
       "\t 234 &    206 & (1e+05,1.2e+05{]} & 0.7835963 & 5303 & -111691 & FALSE &  7 &  2 & 11 & ⋯ & (62,226{]}   & {[} 404, 451) & 0.002566185 &  0.7996440 &  -9.850208 &  7.587667 & -17.43787 &  9.832887 & TRUE  & FALSE\\\\\n",
       "\\end{tabular}\n"
      ],
      "text/markdown": [
       "\n",
       "A data.table: 6 × 25\n",
       "\n",
       "| baitID &lt;int&gt; | otherEndID &lt;int&gt; | distbin &lt;fct&gt; | s_j &lt;dbl&gt; | otherEndLen &lt;int&gt; | distSign &lt;int&gt; | isBait2bait &lt;lgl&gt; | N.1 &lt;int&gt; | N.2 &lt;int&gt; | N.3 &lt;int&gt; | ⋯ ⋯ | tlb &lt;fct&gt; | tblb &lt;fct&gt; | Tmean &lt;dbl&gt; | Bmean &lt;dbl&gt; | log.p &lt;dbl&gt; | log.w &lt;dbl&gt; | log.q &lt;dbl&gt; | score &lt;dbl&gt; | atac &lt;chr&gt; | k27ac &lt;chr&gt; |\n",
       "|---|---|---|---|---|---|---|---|---|---|---|---|---|---|---|---|---|---|---|---|---|\n",
       "| 173 |    171 | (0,2e+04]       | 0.5967814 | 5214 |   -5475 | FALSE | 31 | 21 | 41 | ⋯ | (62,226]   | [ 317, 357) | 0.002170325 | 11.1585324 |  -5.148224 |  7.604980 | -12.75320 |  5.148217 | FALSE | FALSE |\n",
       "| 179 | 229906 | NA              | 0.9481301 | 1079 |      NA |  TRUE |  0 |  0 |  6 | ⋯ | (26,39]B2B | [ 750, 830) | 0.001772935 |  0.0000000 | -20.798445 | -2.452860 | -18.34559 | 10.740598 | TRUE  | FALSE |\n",
       "| 179 |    176 | (0,2e+04]       | 0.9481301 | 5186 |   -8712 | FALSE | 48 | 32 | 38 | ⋯ | (62,226]   | [ 750, 830) | 0.004232449 | 10.6999219 |  -7.256617 |  7.604963 | -14.86158 |  7.256594 | TRUE  | FALSE |\n",
       "| 179 |    170 | (2e+04,4e+04]   | 0.9481301 | 5398 |  -26272 | FALSE | 20 |  3 | 13 | ⋯ | (62,226]   | [ 750, 830) | 0.004232449 |  3.4182392 |  -5.537329 |  7.604574 | -13.14190 |  5.536916 | FALSE | FALSE |\n",
       "| 179 |    254 | (2.8e+05,3e+05] | 0.9481301 | 5062 |  290411 | FALSE |  2 |  1 |  6 | ⋯ | (28,35]    | [ 750, 830) | 0.001770231 |  0.5031257 |  -5.526849 |  7.416891 | -12.94374 |  5.338753 | FALSE | FALSE |\n",
       "| 234 |    206 | (1e+05,1.2e+05] | 0.7835963 | 5303 | -111691 | FALSE |  7 |  2 | 11 | ⋯ | (62,226]   | [ 404, 451) | 0.002566185 |  0.7996440 |  -9.850208 |  7.587667 | -17.43787 |  9.832887 | TRUE  | FALSE |\n",
       "\n"
      ],
      "text/plain": [
       "  baitID otherEndID distbin         s_j       otherEndLen distSign isBait2bait\n",
       "1 173       171     (0,2e+04]       0.5967814 5214          -5475  FALSE      \n",
       "2 179    229906     NA              0.9481301 1079             NA   TRUE      \n",
       "3 179       176     (0,2e+04]       0.9481301 5186          -8712  FALSE      \n",
       "4 179       170     (2e+04,4e+04]   0.9481301 5398         -26272  FALSE      \n",
       "5 179       254     (2.8e+05,3e+05] 0.9481301 5062         290411  FALSE      \n",
       "6 234       206     (1e+05,1.2e+05] 0.7835963 5303        -111691  FALSE      \n",
       "  N.1 N.2 N.3 ⋯ tlb        tblb        Tmean       Bmean      log.p     \n",
       "1 31  21  41  ⋯ (62,226]   [ 317, 357) 0.002170325 11.1585324  -5.148224\n",
       "2  0   0   6  ⋯ (26,39]B2B [ 750, 830) 0.001772935  0.0000000 -20.798445\n",
       "3 48  32  38  ⋯ (62,226]   [ 750, 830) 0.004232449 10.6999219  -7.256617\n",
       "4 20   3  13  ⋯ (62,226]   [ 750, 830) 0.004232449  3.4182392  -5.537329\n",
       "5  2   1   6  ⋯ (28,35]    [ 750, 830) 0.001770231  0.5031257  -5.526849\n",
       "6  7   2  11  ⋯ (62,226]   [ 404, 451) 0.002566185  0.7996440  -9.850208\n",
       "  log.w     log.q     score     atac  k27ac\n",
       "1  7.604980 -12.75320  5.148217 FALSE FALSE\n",
       "2 -2.452860 -18.34559 10.740598 TRUE  FALSE\n",
       "3  7.604963 -14.86158  7.256594 TRUE  FALSE\n",
       "4  7.604574 -13.14190  5.536916 FALSE FALSE\n",
       "5  7.416891 -12.94374  5.338753 FALSE FALSE\n",
       "6  7.587667 -17.43787  9.832887 TRUE  FALSE"
      ]
     },
     "metadata": {},
     "output_type": "display_data"
    }
   ],
   "source": [
    "head(ilc_5kb_x)"
   ]
  }
 ],
 "metadata": {
  "kernelspec": {
   "display_name": "R [conda env:new-r-env]",
   "language": "R",
   "name": "conda-env-new-r-env-r"
  },
  "language_info": {
   "codemirror_mode": "r",
   "file_extension": ".r",
   "mimetype": "text/x-r-source",
   "name": "R",
   "pygments_lexer": "r",
   "version": "3.6.1"
  }
 },
 "nbformat": 4,
 "nbformat_minor": 2
}
